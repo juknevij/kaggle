{
 "cells": [
  {
   "cell_type": "code",
   "execution_count": 1,
   "metadata": {},
   "outputs": [],
   "source": [
    "import matplotlib.pyplot as plt\n",
    "import pandas as pd\n",
    "import seaborn as sns\n",
    "import numpy as np\n",
    "\n",
    "import tensorflow as tf\n",
    "from tensorflow import keras\n",
    "from tensorflow.keras import layers\n",
    "\n",
    "from sklearn.compose import ColumnTransformer, make_column_transformer\n",
    "from sklearn.pipeline import Pipeline\n",
    "from sklearn.impute import SimpleImputer\n",
    "from sklearn.preprocessing import StandardScaler, OneHotEncoder, OrdinalEncoder, Normalizer\n",
    "from sklearn.preprocessing import LabelEncoder, OneHotEncoder\n",
    "\n",
    "from sklearn.linear_model import LogisticRegression\n",
    "\n",
    "from sklearn.metrics import classification_report\n",
    "\n",
    "from sklearn.metrics import confusion_matrix\n",
    "\n",
    "\n",
    "from kaggle.api.kaggle_api_extended import KaggleApi\n",
    "\n",
    "print(tf.__version__)"
   ]
  },
  {
   "cell_type": "code",
   "execution_count": 6,
   "metadata": {},
   "outputs": [],
   "source": [
    "test_raw=pd.read_csv(\"/Users/aliocha/data-kaggle/test.csv\")\n",
    "dataset=pd.read_csv(\"/Users/aliocha/data-kaggle/train.csv\")"
   ]
  },
  {
   "cell_type": "code",
   "execution_count": 8,
   "metadata": {
    "scrolled": true
   },
   "outputs": [
    {
     "data": {
      "text/html": [
       "<div>\n",
       "<style scoped>\n",
       "    .dataframe tbody tr th:only-of-type {\n",
       "        vertical-align: middle;\n",
       "    }\n",
       "\n",
       "    .dataframe tbody tr th {\n",
       "        vertical-align: top;\n",
       "    }\n",
       "\n",
       "    .dataframe thead th {\n",
       "        text-align: right;\n",
       "    }\n",
       "</style>\n",
       "<table border=\"1\" class=\"dataframe\">\n",
       "  <thead>\n",
       "    <tr style=\"text-align: right;\">\n",
       "      <th></th>\n",
       "      <th>id</th>\n",
       "      <th>bin_0</th>\n",
       "      <th>bin_1</th>\n",
       "      <th>bin_2</th>\n",
       "      <th>bin_3</th>\n",
       "      <th>bin_4</th>\n",
       "      <th>nom_0</th>\n",
       "      <th>nom_1</th>\n",
       "      <th>nom_2</th>\n",
       "      <th>nom_3</th>\n",
       "      <th>...</th>\n",
       "      <th>nom_9</th>\n",
       "      <th>ord_0</th>\n",
       "      <th>ord_1</th>\n",
       "      <th>ord_2</th>\n",
       "      <th>ord_3</th>\n",
       "      <th>ord_4</th>\n",
       "      <th>ord_5</th>\n",
       "      <th>day</th>\n",
       "      <th>month</th>\n",
       "      <th>target</th>\n",
       "    </tr>\n",
       "  </thead>\n",
       "  <tbody>\n",
       "    <tr>\n",
       "      <td>299995</td>\n",
       "      <td>299995</td>\n",
       "      <td>0</td>\n",
       "      <td>0</td>\n",
       "      <td>0</td>\n",
       "      <td>T</td>\n",
       "      <td>N</td>\n",
       "      <td>Red</td>\n",
       "      <td>Trapezoid</td>\n",
       "      <td>Snake</td>\n",
       "      <td>India</td>\n",
       "      <td>...</td>\n",
       "      <td>e027decef</td>\n",
       "      <td>1</td>\n",
       "      <td>Contributor</td>\n",
       "      <td>Freezing</td>\n",
       "      <td>k</td>\n",
       "      <td>K</td>\n",
       "      <td>dh</td>\n",
       "      <td>3</td>\n",
       "      <td>8</td>\n",
       "      <td>0</td>\n",
       "    </tr>\n",
       "    <tr>\n",
       "      <td>299996</td>\n",
       "      <td>299996</td>\n",
       "      <td>0</td>\n",
       "      <td>0</td>\n",
       "      <td>0</td>\n",
       "      <td>F</td>\n",
       "      <td>Y</td>\n",
       "      <td>Green</td>\n",
       "      <td>Trapezoid</td>\n",
       "      <td>Lion</td>\n",
       "      <td>Russia</td>\n",
       "      <td>...</td>\n",
       "      <td>80f1411c8</td>\n",
       "      <td>2</td>\n",
       "      <td>Novice</td>\n",
       "      <td>Freezing</td>\n",
       "      <td>h</td>\n",
       "      <td>W</td>\n",
       "      <td>MO</td>\n",
       "      <td>3</td>\n",
       "      <td>2</td>\n",
       "      <td>0</td>\n",
       "    </tr>\n",
       "    <tr>\n",
       "      <td>299997</td>\n",
       "      <td>299997</td>\n",
       "      <td>0</td>\n",
       "      <td>0</td>\n",
       "      <td>0</td>\n",
       "      <td>F</td>\n",
       "      <td>Y</td>\n",
       "      <td>Blue</td>\n",
       "      <td>Star</td>\n",
       "      <td>Axolotl</td>\n",
       "      <td>Russia</td>\n",
       "      <td>...</td>\n",
       "      <td>314dcc15b</td>\n",
       "      <td>3</td>\n",
       "      <td>Novice</td>\n",
       "      <td>Boiling Hot</td>\n",
       "      <td>o</td>\n",
       "      <td>A</td>\n",
       "      <td>Bn</td>\n",
       "      <td>7</td>\n",
       "      <td>9</td>\n",
       "      <td>1</td>\n",
       "    </tr>\n",
       "    <tr>\n",
       "      <td>299998</td>\n",
       "      <td>299998</td>\n",
       "      <td>0</td>\n",
       "      <td>1</td>\n",
       "      <td>0</td>\n",
       "      <td>F</td>\n",
       "      <td>Y</td>\n",
       "      <td>Green</td>\n",
       "      <td>Square</td>\n",
       "      <td>Axolotl</td>\n",
       "      <td>Costa Rica</td>\n",
       "      <td>...</td>\n",
       "      <td>ab0ce192b</td>\n",
       "      <td>1</td>\n",
       "      <td>Master</td>\n",
       "      <td>Boiling Hot</td>\n",
       "      <td>h</td>\n",
       "      <td>W</td>\n",
       "      <td>uJ</td>\n",
       "      <td>3</td>\n",
       "      <td>8</td>\n",
       "      <td>1</td>\n",
       "    </tr>\n",
       "    <tr>\n",
       "      <td>299999</td>\n",
       "      <td>299999</td>\n",
       "      <td>0</td>\n",
       "      <td>0</td>\n",
       "      <td>0</td>\n",
       "      <td>F</td>\n",
       "      <td>Y</td>\n",
       "      <td>Blue</td>\n",
       "      <td>Trapezoid</td>\n",
       "      <td>Dog</td>\n",
       "      <td>Russia</td>\n",
       "      <td>...</td>\n",
       "      <td>ad1af2b45</td>\n",
       "      <td>3</td>\n",
       "      <td>Contributor</td>\n",
       "      <td>Freezing</td>\n",
       "      <td>i</td>\n",
       "      <td>R</td>\n",
       "      <td>tP</td>\n",
       "      <td>1</td>\n",
       "      <td>3</td>\n",
       "      <td>0</td>\n",
       "    </tr>\n",
       "  </tbody>\n",
       "</table>\n",
       "<p>5 rows × 25 columns</p>\n",
       "</div>"
      ],
      "text/plain": [
       "            id  bin_0  bin_1  bin_2 bin_3 bin_4  nom_0      nom_1    nom_2  \\\n",
       "299995  299995      0      0      0     T     N    Red  Trapezoid    Snake   \n",
       "299996  299996      0      0      0     F     Y  Green  Trapezoid     Lion   \n",
       "299997  299997      0      0      0     F     Y   Blue       Star  Axolotl   \n",
       "299998  299998      0      1      0     F     Y  Green     Square  Axolotl   \n",
       "299999  299999      0      0      0     F     Y   Blue  Trapezoid      Dog   \n",
       "\n",
       "             nom_3  ...      nom_9 ord_0        ord_1        ord_2 ord_3  \\\n",
       "299995       India  ...  e027decef     1  Contributor     Freezing     k   \n",
       "299996      Russia  ...  80f1411c8     2       Novice     Freezing     h   \n",
       "299997      Russia  ...  314dcc15b     3       Novice  Boiling Hot     o   \n",
       "299998  Costa Rica  ...  ab0ce192b     1       Master  Boiling Hot     h   \n",
       "299999      Russia  ...  ad1af2b45     3  Contributor     Freezing     i   \n",
       "\n",
       "       ord_4  ord_5 day month target  \n",
       "299995     K     dh   3     8      0  \n",
       "299996     W     MO   3     2      0  \n",
       "299997     A     Bn   7     9      1  \n",
       "299998     W     uJ   3     8      1  \n",
       "299999     R     tP   1     3      0  \n",
       "\n",
       "[5 rows x 25 columns]"
      ]
     },
     "execution_count": 8,
     "metadata": {},
     "output_type": "execute_result"
    }
   ],
   "source": [
    "dataset.tail()"
   ]
  },
  {
   "cell_type": "code",
   "execution_count": 51,
   "metadata": {},
   "outputs": [
    {
     "data": {
      "text/plain": [
       "array(['Grandmaster', 'Expert', 'Novice', 'Contributor', 'Master'],\n",
       "      dtype=object)"
      ]
     },
     "execution_count": 51,
     "metadata": {},
     "output_type": "execute_result"
    }
   ],
   "source": [
    "dataset.ord_1.unique()"
   ]
  },
  {
   "cell_type": "code",
   "execution_count": 57,
   "metadata": {},
   "outputs": [
    {
     "name": "stdout",
     "output_type": "stream",
     "text": [
      "nom_0 : 3\n",
      "nom_1 : 6\n",
      "nom_2 : 6\n",
      "nom_3 : 6\n",
      "nom_4 : 4\n",
      "nom_5 : 222\n",
      "nom_6 : 522\n",
      "nom_7 : 1220\n",
      "nom_8 : 2214\n",
      "nom_9 : 11917\n"
     ]
    }
   ],
   "source": [
    "nom_vars=['nom_%s'%i for i in range(10)]\n",
    "for x in nom_vars:\n",
    "    print(x,\":\",train_dataset[x].unique().shape[0])"
   ]
  },
  {
   "cell_type": "code",
   "execution_count": 65,
   "metadata": {},
   "outputs": [
    {
     "name": "stdout",
     "output_type": "stream",
     "text": [
      "ord_0 : 3\n",
      "ord_1 : 5\n",
      "ord_2 : 6\n",
      "ord_3 : 15\n",
      "ord_4 : 26\n",
      "ord_5 : 192\n"
     ]
    }
   ],
   "source": [
    "for x in ['ord_%s'%i for i in range(6)]:\n",
    "    print(x,\":\",train_dataset[x].unique().shape[0])"
   ]
  },
  {
   "cell_type": "code",
   "execution_count": 11,
   "metadata": {},
   "outputs": [
    {
     "data": {
      "text/html": [
       "<div>\n",
       "<style scoped>\n",
       "    .dataframe tbody tr th:only-of-type {\n",
       "        vertical-align: middle;\n",
       "    }\n",
       "\n",
       "    .dataframe tbody tr th {\n",
       "        vertical-align: top;\n",
       "    }\n",
       "\n",
       "    .dataframe thead th {\n",
       "        text-align: right;\n",
       "    }\n",
       "</style>\n",
       "<table border=\"1\" class=\"dataframe\">\n",
       "  <thead>\n",
       "    <tr style=\"text-align: right;\">\n",
       "      <th></th>\n",
       "      <th>bin_0</th>\n",
       "      <th>bin_1</th>\n",
       "      <th>bin_2</th>\n",
       "      <th>bin_3</th>\n",
       "      <th>bin_4</th>\n",
       "      <th>nom_0</th>\n",
       "      <th>nom_1</th>\n",
       "      <th>nom_2</th>\n",
       "      <th>nom_3</th>\n",
       "      <th>nom_4</th>\n",
       "      <th>ord_0</th>\n",
       "      <th>ord_1</th>\n",
       "      <th>ord_2</th>\n",
       "      <th>ord_3</th>\n",
       "      <th>ord_4</th>\n",
       "      <th>day</th>\n",
       "      <th>month</th>\n",
       "    </tr>\n",
       "  </thead>\n",
       "  <tbody>\n",
       "    <tr>\n",
       "      <td>0</td>\n",
       "      <td>0</td>\n",
       "      <td>0</td>\n",
       "      <td>0</td>\n",
       "      <td>1</td>\n",
       "      <td>1</td>\n",
       "      <td>Green</td>\n",
       "      <td>Triangle</td>\n",
       "      <td>Snake</td>\n",
       "      <td>Finland</td>\n",
       "      <td>Bassoon</td>\n",
       "      <td>2</td>\n",
       "      <td>Grandmaster</td>\n",
       "      <td>Cold</td>\n",
       "      <td>h</td>\n",
       "      <td>D</td>\n",
       "      <td>2</td>\n",
       "      <td>2</td>\n",
       "    </tr>\n",
       "    <tr>\n",
       "      <td>1</td>\n",
       "      <td>0</td>\n",
       "      <td>1</td>\n",
       "      <td>0</td>\n",
       "      <td>1</td>\n",
       "      <td>1</td>\n",
       "      <td>Green</td>\n",
       "      <td>Trapezoid</td>\n",
       "      <td>Hamster</td>\n",
       "      <td>Russia</td>\n",
       "      <td>Piano</td>\n",
       "      <td>1</td>\n",
       "      <td>Grandmaster</td>\n",
       "      <td>Hot</td>\n",
       "      <td>a</td>\n",
       "      <td>A</td>\n",
       "      <td>7</td>\n",
       "      <td>8</td>\n",
       "    </tr>\n",
       "    <tr>\n",
       "      <td>2</td>\n",
       "      <td>0</td>\n",
       "      <td>0</td>\n",
       "      <td>0</td>\n",
       "      <td>0</td>\n",
       "      <td>1</td>\n",
       "      <td>Blue</td>\n",
       "      <td>Trapezoid</td>\n",
       "      <td>Lion</td>\n",
       "      <td>Russia</td>\n",
       "      <td>Theremin</td>\n",
       "      <td>1</td>\n",
       "      <td>Expert</td>\n",
       "      <td>Lava Hot</td>\n",
       "      <td>h</td>\n",
       "      <td>R</td>\n",
       "      <td>7</td>\n",
       "      <td>2</td>\n",
       "    </tr>\n",
       "    <tr>\n",
       "      <td>3</td>\n",
       "      <td>0</td>\n",
       "      <td>1</td>\n",
       "      <td>0</td>\n",
       "      <td>0</td>\n",
       "      <td>1</td>\n",
       "      <td>Red</td>\n",
       "      <td>Trapezoid</td>\n",
       "      <td>Snake</td>\n",
       "      <td>Canada</td>\n",
       "      <td>Oboe</td>\n",
       "      <td>1</td>\n",
       "      <td>Grandmaster</td>\n",
       "      <td>Boiling Hot</td>\n",
       "      <td>i</td>\n",
       "      <td>D</td>\n",
       "      <td>2</td>\n",
       "      <td>1</td>\n",
       "    </tr>\n",
       "    <tr>\n",
       "      <td>4</td>\n",
       "      <td>0</td>\n",
       "      <td>0</td>\n",
       "      <td>0</td>\n",
       "      <td>0</td>\n",
       "      <td>0</td>\n",
       "      <td>Red</td>\n",
       "      <td>Trapezoid</td>\n",
       "      <td>Lion</td>\n",
       "      <td>Canada</td>\n",
       "      <td>Oboe</td>\n",
       "      <td>1</td>\n",
       "      <td>Grandmaster</td>\n",
       "      <td>Freezing</td>\n",
       "      <td>a</td>\n",
       "      <td>R</td>\n",
       "      <td>7</td>\n",
       "      <td>8</td>\n",
       "    </tr>\n",
       "  </tbody>\n",
       "</table>\n",
       "</div>"
      ],
      "text/plain": [
       "   bin_0  bin_1  bin_2  bin_3  bin_4  nom_0      nom_1    nom_2    nom_3  \\\n",
       "0      0      0      0      1      1  Green   Triangle    Snake  Finland   \n",
       "1      0      1      0      1      1  Green  Trapezoid  Hamster   Russia   \n",
       "2      0      0      0      0      1   Blue  Trapezoid     Lion   Russia   \n",
       "3      0      1      0      0      1    Red  Trapezoid    Snake   Canada   \n",
       "4      0      0      0      0      0    Red  Trapezoid     Lion   Canada   \n",
       "\n",
       "      nom_4  ord_0        ord_1        ord_2 ord_3 ord_4  day  month  \n",
       "0   Bassoon      2  Grandmaster         Cold     h     D    2      2  \n",
       "1     Piano      1  Grandmaster          Hot     a     A    7      8  \n",
       "2  Theremin      1       Expert     Lava Hot     h     R    7      2  \n",
       "3      Oboe      1  Grandmaster  Boiling Hot     i     D    2      1  \n",
       "4      Oboe      1  Grandmaster     Freezing     a     R    7      8  "
      ]
     },
     "execution_count": 11,
     "metadata": {},
     "output_type": "execute_result"
    }
   ],
   "source": [
    "target=dataset.target.values\n",
    "features=dataset[['bin_0', 'bin_1', 'bin_2', 'bin_3', 'bin_4',\n",
    "                 'nom_0', 'nom_1', 'nom_2', 'nom_3', 'nom_4',\n",
    "                 'ord_0', 'ord_1', 'ord_2', 'ord_3', 'ord_4', 'day', 'month']].copy()\n",
    "\n",
    "features['bin_3']=features['bin_3'].map({'Y':1, 'N':0, 'T':1, 'F':0})\n",
    "features['bin_4']=features['bin_4'].map({'Y':1, 'N':0, 'T':1, 'F':0})\n",
    "\n",
    "mapping = {\"ord_1\": {'Grandmaster':4, 'Expert':2, 'Novice':0, 'Contributor':1, 'Master':3},\n",
    "           \"ord_2\": {'Cold':1, 'Hot':3, 'Lava Hot':5, 'Boiling Hot':4, 'Freezing':0, 'Warm':2}}\n",
    "features.replace(mapping, inplace=True)\n",
    "\n",
    "lb_make = LabelEncoder()\n",
    "features[\"ord_3\"] = lb_make.fit_transform(features[\"ord_3\"])\n",
    "features[\"ord_4\"] = lb_make.fit_transform(features[\"ord_4\"])\n",
    "\n",
    "features=pd.get_dummies(features, columns=[\"nom_0\", \"nom_1\",\"nom_2\", \"nom_3\", \"nom_4\"], prefix=\"\")\n",
    "\n",
    "\n",
    "\n",
    "features.head()"
   ]
  },
  {
   "cell_type": "code",
   "execution_count": 117,
   "metadata": {},
   "outputs": [],
   "source": [
    "X_train, X_test, y_train, y_test = train_test_split(features, target, test_size = 0.2, random_state = 101)\n",
    "logmodel = LogisticRegression()\n",
    "logmodel.fit(X_train,y_train)\n",
    "predictions = logmodel.predict(X_test)\n",
    "print(classification_report(y_test, predictions))"
   ]
  },
  {
   "cell_type": "code",
   "execution_count": 27,
   "metadata": {},
   "outputs": [
    {
     "data": {
      "text/plain": [
       "array([[37715,  3792],\n",
       "       [12513,  5980]])"
      ]
     },
     "execution_count": 27,
     "metadata": {},
     "output_type": "execute_result"
    }
   ],
   "source": [
    "confusion_matrix(y_test, predictions)"
   ]
  },
  {
   "cell_type": "code",
   "execution_count": 47,
   "metadata": {},
   "outputs": [
    {
     "data": {
      "text/plain": [
       "<matplotlib.axes._subplots.AxesSubplot at 0x1a442afbd0>"
      ]
     },
     "execution_count": 47,
     "metadata": {},
     "output_type": "execute_result"
    },
    {
     "data": {
      "image/png": "[encoded data removed]",
      "text/plain": [
       "<Figure size 432x288 with 1 Axes>"
      ]
     },
     "metadata": {
      "needs_background": "light"
     },
     "output_type": "display_data"
    }
   ],
   "source": [
    "sns.countplot(x='target', hue='ord_2', data=dataset)"
   ]
  },
  {
   "cell_type": "code",
   "execution_count": 48,
   "metadata": {},
   "outputs": [],
   "source": [
    "from sklearn.ensemble import RandomForestClassifier\n",
    "\n",
    "#Create a Gaussian Classifier\n",
    "clf=RandomForestClassifier(n_estimators=100)\n",
    "\n",
    "#Train the model using the training sets y_pred=clf.predict(X_test)\n",
    "clf.fit(X_train,y_train)\n",
    "\n",
    "y_pred=clf.predict(X_test)"
   ]
  },
  {
   "cell_type": "code",
   "execution_count": 49,
   "metadata": {},
   "outputs": [
    {
     "name": "stdout",
     "output_type": "stream",
     "text": [
      "              precision    recall  f1-score   support\n",
      "\n",
      "           0       0.75      0.91      0.82     41507\n",
      "           1       0.61      0.32      0.42     18493\n",
      "\n",
      "    accuracy                           0.73     60000\n",
      "   macro avg       0.68      0.62      0.62     60000\n",
      "weighted avg       0.71      0.73      0.70     60000\n",
      "\n"
     ]
    }
   ],
   "source": [
    "print(classification_report(y_test, predictions))"
   ]
  },
  {
   "cell_type": "code",
   "execution_count": null,
   "metadata": {},
   "outputs": [],
   "source": [
    "df=test_raw[['bin_0', 'bin_1', 'bin_2', 'bin_3', 'bin_4',\n",
    "                 'nom_0', 'nom_1', 'nom_2', 'nom_3', 'nom_4',\n",
    "                 'ord_0', 'ord_1', 'ord_2', 'ord_3', 'ord_4', 'day', 'month']].copy()\n",
    "\n",
    "df['bin_3']=df['bin_3'].map({'Y':1, 'N':0, 'T':1, 'F':0})\n",
    "df['bin_4']=df['bin_4'].map({'Y':1, 'N':0, 'T':1, 'F':0})\n",
    "\n",
    "mapping = {\"ord_1\": {'Grandmaster':4, 'Expert':2, 'Novice':0, 'Contributor':1, 'Master':3},\n",
    "           \"ord_2\": {'Cold':1, 'Hot':3, 'Lava Hot':5, 'Boiling Hot':4, 'Freezing':0, 'Warm':2}}\n",
    "df.replace(mapping, inplace=True)\n",
    "\n",
    "lb_make = LabelEncoder()\n",
    "df[\"ord_3\"] = lb_make.fit_transform(df[\"ord_3\"])\n",
    "df[\"ord_4\"] = lb_make.fit_transform(df[\"ord_4\"])\n",
    "\n",
    "df=pd.get_dummies(df, columns=[\"nom_0\", \"nom_1\",\"nom_2\", \"nom_3\", \"nom_4\"], prefix=\"\")\n",
    "\n",
    "\n",
    "\n",
    "df.head()\n",
    "\n"
   ]
  },
  {
   "cell_type": "code",
   "execution_count": null,
   "metadata": {},
   "outputs": [],
   "source": [
    "yf=clf.predict(df)\n",
    "ds=test_raw.copy()\n",
    "ds[\"target\"]=yf\n",
    "output=ds[[\"id\",\"target\"]]\n",
    "output.head()"
   ]
  },
  {
   "cell_type": "code",
   "execution_count": null,
   "metadata": {},
   "outputs": [],
   "source": [
    "output.to_csv(\"submission.csv\", index=False)"
   ]
  }
 ],
 "metadata": {
  "kernelspec": {
   "display_name": "Nuevo Python 3 con TensorFlow",
   "language": "python",
   "name": "venv"
  },
  "language_info": {
   "codemirror_mode": {
    "name": "ipython",
    "version": 3
   },
   "file_extension": ".py",
   "mimetype": "text/x-python",
   "name": "python",
   "nbconvert_exporter": "python",
   "pygments_lexer": "ipython3",
   "version": "3.7.4"
  }
 },
 "nbformat": 4,
 "nbformat_minor": 2
}
